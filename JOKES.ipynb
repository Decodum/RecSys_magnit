{
 "cells": [
  {
   "attachments": {},
   "cell_type": "markdown",
   "metadata": {},
   "source": [
    "Финальное задание.\n",
    "1.  Использовать можно весь набор данных Jester DataSet, но сохранив разбивку на выборку для обучения и для теста (id участников и шуток сохранены в github (https://github.com/NameArtem/recommendation_in_practice_tutorial/tree/main/code/BaseLine))\n",
    "\n",
    "2.  Разрешено использовать новые варианты алгоритмов, но желательно не уходить далеко в «сложные нейронные сети» и не использовать архитектуры, которые вы не понимаете (случайные архитектуры нейронных сетей из интернета).\n",
    "Лучшим вариантом является гибридная рекомендательная система с разными эвристиками до или после скоринга + ранжировщик результатов. Это покажет изучение темы и самого набора данных (помните про ответственную разработку своих решений).\n",
    "\n",
    "3.  Результатом вашей рекомендательной системы должна быть последовательность (список в списках) из двух результатов: [[топ рекомендация], [ранжированная последовательность из 10 рекомендаций]].\n",
    "\n",
    "4.  Позиция 1 будет проверена по метрике RMSE, ранжированная последовательность будет оценена по MAP@10 \n",
    "\n",
    "5.  Основная задача сохранить метрику, которую вы получили на Kaggle лидерборде, но упор делаем на метрики: diversity, serendipity, novelty, coverage.\n",
    "Помните, что необходимо реализовать баланс, где хороший топ будет интересен и в наборе.\n",
    "\n",
    "6.  Результат работы желательно встроить в контейнер, чтобы его можно было бы запустить автопроверкой.\n",
    "Контейнер должен получать данные, трансформировать их в готовый pandas DataFrame для работы, скорить переданных клиентов и возвращать результат в связке: клиент и результат из п.3 (см.выше).\n",
    "Контейнер уже реализован, ваша модель должна быть его основным механизмом. Пример реализации: https://github.com/TripleAVerAlpha/docker\n",
    "\n",
    "7.  Если не удаётся запустить контейнер или его создать, то на вопросы ответит Золотых Александр.\n",
    "Учитывайте, что контейнер, может быть не реализован (т.к. понимание, что сложно и важнее реализовать модель), но сама модель должна запускаться.\n",
    "\n",
    "8.  Результат прошу загрузить на GitHub, а ссылку передать через форму https://forms.gle/Ay2b9z7nuhtgPBkFA"
   ]
  },
  {
   "attachments": {},
   "cell_type": "markdown",
   "metadata": {},
   "source": [
    "оснвной датасет - https://drive.google.com/file/d/1lK62v94zu246tJfvaxgjP_QBswwXHvD4/view?usp=sharing\n",
    "датасет с текстами шуток - https://drive.google.com/file/d/1NcM0Qk1MUT-NuTfSfwkIfdEp1DXDAIr4/view?usp=drivesdk"
   ]
  },
  {
   "attachments": {},
   "cell_type": "markdown",
   "metadata": {},
   "source": [
    "* данные должны выходить из контейнера в таком формате - csv в виде [UID, {JID: Rating}, [все JID]]."
   ]
  },
  {
   "cell_type": "code",
   "execution_count": 26,
   "metadata": {},
   "outputs": [
    {
     "name": "stdout",
     "output_type": "stream",
     "text": [
      "Archive:  recsys-in-practice.zip\n"
     ]
    }
   ],
   "source": [
    "! unzip -f recsys-in-practice.zip"
   ]
  },
  {
   "cell_type": "code",
   "execution_count": 27,
   "metadata": {},
   "outputs": [
    {
     "name": "stdout",
     "output_type": "stream",
     "text": [
      "Archive:  jester_dataset_1_joke_texts.zip\n"
     ]
    }
   ],
   "source": [
    "! unzip -f jester_dataset_1_joke_texts.zip"
   ]
  },
  {
   "cell_type": "code",
   "execution_count": 28,
   "metadata": {},
   "outputs": [
    {
     "name": "stdout",
     "output_type": "stream",
     "text": [
      "Defaulting to user installation because normal site-packages is not writeable\n",
      "Requirement already satisfied: pip in /Users/burzik/Library/Python/3.9/lib/python/site-packages (23.1.2)\n"
     ]
    }
   ],
   "source": [
    "!python3 -m pip install --upgrade pip"
   ]
  },
  {
   "attachments": {},
   "cell_type": "markdown",
   "metadata": {},
   "source": [
    "Устанавливаем библиотеки"
   ]
  },
  {
   "cell_type": "code",
   "execution_count": 29,
   "metadata": {},
   "outputs": [
    {
     "name": "stdout",
     "output_type": "stream",
     "text": [
      "Defaulting to user installation because normal site-packages is not writeable\n",
      "Requirement already satisfied: catboost in /Users/burzik/Library/Python/3.9/lib/python/site-packages (1.2)\n",
      "Requirement already satisfied: graphviz in /Users/burzik/Library/Python/3.9/lib/python/site-packages (from catboost) (0.20.1)\n",
      "Requirement already satisfied: matplotlib in /Users/burzik/Library/Python/3.9/lib/python/site-packages (from catboost) (3.7.1)\n",
      "Requirement already satisfied: numpy>=1.16.0 in /Users/burzik/Library/Python/3.9/lib/python/site-packages (from catboost) (1.24.3)\n",
      "Requirement already satisfied: pandas>=0.24 in /Users/burzik/Library/Python/3.9/lib/python/site-packages (from catboost) (2.0.1)\n",
      "Requirement already satisfied: scipy in /Users/burzik/Library/Python/3.9/lib/python/site-packages (from catboost) (1.10.1)\n",
      "Requirement already satisfied: plotly in /Users/burzik/Library/Python/3.9/lib/python/site-packages (from catboost) (5.14.1)\n",
      "Requirement already satisfied: six in /Library/Developer/CommandLineTools/Library/Frameworks/Python3.framework/Versions/3.9/lib/python3.9/site-packages (from catboost) (1.15.0)\n",
      "Requirement already satisfied: python-dateutil>=2.8.2 in /Users/burzik/Library/Python/3.9/lib/python/site-packages (from pandas>=0.24->catboost) (2.8.2)\n",
      "Requirement already satisfied: pytz>=2020.1 in /Users/burzik/Library/Python/3.9/lib/python/site-packages (from pandas>=0.24->catboost) (2023.3)\n",
      "Requirement already satisfied: tzdata>=2022.1 in /Users/burzik/Library/Python/3.9/lib/python/site-packages (from pandas>=0.24->catboost) (2023.3)\n",
      "Requirement already satisfied: contourpy>=1.0.1 in /Users/burzik/Library/Python/3.9/lib/python/site-packages (from matplotlib->catboost) (1.0.7)\n",
      "Requirement already satisfied: cycler>=0.10 in /Users/burzik/Library/Python/3.9/lib/python/site-packages (from matplotlib->catboost) (0.11.0)\n",
      "Requirement already satisfied: fonttools>=4.22.0 in /Users/burzik/Library/Python/3.9/lib/python/site-packages (from matplotlib->catboost) (4.39.3)\n",
      "Requirement already satisfied: kiwisolver>=1.0.1 in /Users/burzik/Library/Python/3.9/lib/python/site-packages (from matplotlib->catboost) (1.4.4)\n",
      "Requirement already satisfied: packaging>=20.0 in /Users/burzik/Library/Python/3.9/lib/python/site-packages (from matplotlib->catboost) (23.1)\n",
      "Requirement already satisfied: pillow>=6.2.0 in /Users/burzik/Library/Python/3.9/lib/python/site-packages (from matplotlib->catboost) (9.5.0)\n",
      "Requirement already satisfied: pyparsing>=2.3.1 in /Users/burzik/Library/Python/3.9/lib/python/site-packages (from matplotlib->catboost) (3.0.9)\n",
      "Requirement already satisfied: importlib-resources>=3.2.0 in /Users/burzik/Library/Python/3.9/lib/python/site-packages (from matplotlib->catboost) (5.12.0)\n",
      "Requirement already satisfied: tenacity>=6.2.0 in /Users/burzik/Library/Python/3.9/lib/python/site-packages (from plotly->catboost) (8.2.2)\n",
      "Requirement already satisfied: zipp>=3.1.0 in /Users/burzik/Library/Python/3.9/lib/python/site-packages (from importlib-resources>=3.2.0->matplotlib->catboost) (3.15.0)\n",
      "Defaulting to user installation because normal site-packages is not writeable\n",
      "Requirement already satisfied: numpy in /Users/burzik/Library/Python/3.9/lib/python/site-packages (1.24.3)\n",
      "Defaulting to user installation because normal site-packages is not writeable\n",
      "Requirement already satisfied: scikit-learn in /Users/burzik/Library/Python/3.9/lib/python/site-packages (1.2.2)\n",
      "Requirement already satisfied: numpy>=1.17.3 in /Users/burzik/Library/Python/3.9/lib/python/site-packages (from scikit-learn) (1.24.3)\n",
      "Requirement already satisfied: scipy>=1.3.2 in /Users/burzik/Library/Python/3.9/lib/python/site-packages (from scikit-learn) (1.10.1)\n",
      "Requirement already satisfied: joblib>=1.1.1 in /Users/burzik/Library/Python/3.9/lib/python/site-packages (from scikit-learn) (1.2.0)\n",
      "Requirement already satisfied: threadpoolctl>=2.0.0 in /Users/burzik/Library/Python/3.9/lib/python/site-packages (from scikit-learn) (3.1.0)\n",
      "Defaulting to user installation because normal site-packages is not writeable\n",
      "Requirement already satisfied: nltk in /Users/burzik/Library/Python/3.9/lib/python/site-packages (3.8.1)\n",
      "Requirement already satisfied: click in /Users/burzik/Library/Python/3.9/lib/python/site-packages (from nltk) (8.1.3)\n",
      "Requirement already satisfied: joblib in /Users/burzik/Library/Python/3.9/lib/python/site-packages (from nltk) (1.2.0)\n",
      "Requirement already satisfied: regex>=2021.8.3 in /Users/burzik/Library/Python/3.9/lib/python/site-packages (from nltk) (2023.5.5)\n",
      "Requirement already satisfied: tqdm in /Users/burzik/Library/Python/3.9/lib/python/site-packages (from nltk) (4.65.0)\n",
      "Defaulting to user installation because normal site-packages is not writeable\n",
      "Requirement already satisfied: xgboost in /Users/burzik/Library/Python/3.9/lib/python/site-packages (1.7.5)\n",
      "Requirement already satisfied: numpy in /Users/burzik/Library/Python/3.9/lib/python/site-packages (from xgboost) (1.24.3)\n",
      "Requirement already satisfied: scipy in /Users/burzik/Library/Python/3.9/lib/python/site-packages (from xgboost) (1.10.1)\n",
      "Defaulting to user installation because normal site-packages is not writeable\n",
      "Requirement already satisfied: scikit-surprise in /Users/burzik/Library/Python/3.9/lib/python/site-packages (1.1.3)\n",
      "Requirement already satisfied: joblib>=1.0.0 in /Users/burzik/Library/Python/3.9/lib/python/site-packages (from scikit-surprise) (1.2.0)\n",
      "Requirement already satisfied: numpy>=1.17.3 in /Users/burzik/Library/Python/3.9/lib/python/site-packages (from scikit-surprise) (1.24.3)\n",
      "Requirement already satisfied: scipy>=1.3.2 in /Users/burzik/Library/Python/3.9/lib/python/site-packages (from scikit-surprise) (1.10.1)\n"
     ]
    }
   ],
   "source": [
    "!pip install catboost \n",
    "!pip install numpy\n",
    "!pip install scikit-learn\n",
    "!pip install nltk\n",
    "!pip install xgboost\n",
    "!pip install scikit-surprise"
   ]
  },
  {
   "attachments": {},
   "cell_type": "markdown",
   "metadata": {},
   "source": [
    "Импортируем бибилиотеки"
   ]
  },
  {
   "cell_type": "code",
   "execution_count": 30,
   "metadata": {},
   "outputs": [],
   "source": [
    "import pandas as pd\n",
    "import numpy as np\n",
    "# sklearn\n",
    "from sklearn.model_selection import cross_val_predict\n",
    "from sklearn.preprocessing import StandardScaler\n",
    "from sklearn.svm import LinearSVC\n",
    "from catboost import Pool, CatBoostRegressor, cv\n",
    "from sklearn.model_selection import train_test_split, cross_val_score, GridSearchCV\n",
    "# surprise\n",
    "from surprise import Dataset, Reader, KNNWithMeans, accuracy\n",
    "from surprise.model_selection import GridSearchCV\n",
    "from surprise.model_selection import KFold\n",
    "from surprise import SVD\n",
    "from surprise import Reader\n",
    "from surprise import Dataset\n",
    "from surprise.accuracy import rmse\n",
    "from surprise import accuracy\n",
    "import os\n",
    "import re\n",
    "from catboost import CatBoostRegressor, Pool\n",
    "import catboost"
   ]
  },
  {
   "cell_type": "code",
   "execution_count": 31,
   "metadata": {},
   "outputs": [],
   "source": [
    "# образец предсказания\n",
    "df_sample = pd.read_csv('sample_submission.csv')\n",
    "# тестовая выборка\n",
    "df_test = pd.read_csv('test_joke_df_nofactrating.csv')\n",
    "# обучающая выборка\n",
    "df_train = pd.read_csv('train_joke_df.csv')"
   ]
  },
  {
   "cell_type": "code",
   "execution_count": 32,
   "metadata": {},
   "outputs": [],
   "source": [
    "# Указать путь к папке с файлами\n",
    "folder_path = \"jokes\"\n",
    "\n",
    "# Получить список файлов в папке\n",
    "file_list = os.listdir(folder_path)"
   ]
  },
  {
   "attachments": {},
   "cell_type": "markdown",
   "metadata": {},
   "source": [
    "Добавляем тексты шуток в таблицу"
   ]
  },
  {
   "cell_type": "code",
   "execution_count": 33,
   "metadata": {},
   "outputs": [],
   "source": [
    "def add_joke_text_from_files(folder_path, df_train):\n",
    "    # Получить список файлов с шутками из заданной папки\n",
    "    file_list = os.listdir(folder_path)\n",
    "\n",
    "    # Создать пустой список для хранения номеров шуток и текстов шуток\n",
    "    joke_num_list = []\n",
    "    text_list = []\n",
    "\n",
    "    # Пройти по списку файлов и извлечь номера шуток и тексты шуток\n",
    "    for file_name in file_list:\n",
    "        # Проверить, что имя файла не является скрытым файлом\n",
    "        if not file_name.startswith(\".\"):\n",
    "            # Извлечь номер шутки из имени файла с помощью регулярного выражения\n",
    "            joke_num_match = re.findall(r\"init(\\d+)\\.html\", file_name)\n",
    "            if joke_num_match:\n",
    "                joke_num = int(joke_num_match[0])\n",
    "                # Проверить, есть ли номер шутки в DataFrame df_train\n",
    "                if joke_num in df_train[\"JID\"].values:\n",
    "                    # Извлечь текст шутки из файла\n",
    "                    file_path = os.path.join(folder_path, file_name)\n",
    "                    with open(file_path, \"r\", encoding=\"utf-8\") as f:\n",
    "                        file_content = f.read()\n",
    "                        # Извлечь текст из HTML с помощью регулярного выражения\n",
    "                        text = re.sub(r\"<.*?>\", \"\", file_content)\n",
    "                        # Удалить символы переноса строки\n",
    "                        text = text.replace(\"\\n\", \"\")\n",
    "                        # Удалить \"A Joke\" и \"Joke #\"\n",
    "                        text = re.sub(r\"(Joke \\d+)|(A Joke),?\",\n",
    "                                      \"\", text).strip()\n",
    "                        text_list.append(text)\n",
    "                        joke_num_list.append(joke_num)\n",
    "\n",
    "    # Создать DataFrame с номерами шуток и текстами шуток\n",
    "    jokes_df = pd.DataFrame({\"JID\": joke_num_list, \"joke_text\": text_list})\n",
    "\n",
    "    # Объединить DataFrame df_train и jokes_df по столбцу JID\n",
    "    df_train = pd.merge(df_train, jokes_df, on=\"JID\", how=\"left\")\n",
    "\n",
    "    return df_train"
   ]
  },
  {
   "cell_type": "code",
   "execution_count": 34,
   "metadata": {},
   "outputs": [
    {
     "data": {
      "text/html": [
       "<div>\n",
       "<style scoped>\n",
       "    .dataframe tbody tr th:only-of-type {\n",
       "        vertical-align: middle;\n",
       "    }\n",
       "\n",
       "    .dataframe tbody tr th {\n",
       "        vertical-align: top;\n",
       "    }\n",
       "\n",
       "    .dataframe thead th {\n",
       "        text-align: right;\n",
       "    }\n",
       "</style>\n",
       "<table border=\"1\" class=\"dataframe\">\n",
       "  <thead>\n",
       "    <tr style=\"text-align: right;\">\n",
       "      <th></th>\n",
       "      <th>UID</th>\n",
       "      <th>JID</th>\n",
       "      <th>Rating</th>\n",
       "      <th>joke_text</th>\n",
       "    </tr>\n",
       "  </thead>\n",
       "  <tbody>\n",
       "    <tr>\n",
       "      <th>0</th>\n",
       "      <td>18029</td>\n",
       "      <td>6</td>\n",
       "      <td>-1.26</td>\n",
       "      <td>Bill &amp; Hillary are on a trip back to Arkansas....</td>\n",
       "    </tr>\n",
       "    <tr>\n",
       "      <th>1</th>\n",
       "      <td>3298</td>\n",
       "      <td>64</td>\n",
       "      <td>-4.17</td>\n",
       "      <td>What is the rallying cry of the International ...</td>\n",
       "    </tr>\n",
       "    <tr>\n",
       "      <th>2</th>\n",
       "      <td>3366</td>\n",
       "      <td>58</td>\n",
       "      <td>0.92</td>\n",
       "      <td>How many teddybears does it take to change a l...</td>\n",
       "    </tr>\n",
       "    <tr>\n",
       "      <th>3</th>\n",
       "      <td>12735</td>\n",
       "      <td>92</td>\n",
       "      <td>3.69</td>\n",
       "      <td>Early one morning a mother went to her sleepin...</td>\n",
       "    </tr>\n",
       "    <tr>\n",
       "      <th>4</th>\n",
       "      <td>11365</td>\n",
       "      <td>38</td>\n",
       "      <td>-6.60</td>\n",
       "      <td>\"May I take your order?\" the waiter asked. \"Ye...</td>\n",
       "    </tr>\n",
       "    <tr>\n",
       "      <th>...</th>\n",
       "      <td>...</td>\n",
       "      <td>...</td>\n",
       "      <td>...</td>\n",
       "      <td>...</td>\n",
       "    </tr>\n",
       "    <tr>\n",
       "      <th>1448359</th>\n",
       "      <td>22604</td>\n",
       "      <td>26</td>\n",
       "      <td>2.82</td>\n",
       "      <td>A guy walks into a bar and sits down next to a...</td>\n",
       "    </tr>\n",
       "    <tr>\n",
       "      <th>1448360</th>\n",
       "      <td>22255</td>\n",
       "      <td>36</td>\n",
       "      <td>-1.94</td>\n",
       "      <td>A guy walks into a bar, orders a beer and says...</td>\n",
       "    </tr>\n",
       "    <tr>\n",
       "      <th>1448361</th>\n",
       "      <td>21056</td>\n",
       "      <td>40</td>\n",
       "      <td>-9.56</td>\n",
       "      <td>How many Irishmen does it take to change a lig...</td>\n",
       "    </tr>\n",
       "    <tr>\n",
       "      <th>1448362</th>\n",
       "      <td>12328</td>\n",
       "      <td>97</td>\n",
       "      <td>0.87</td>\n",
       "      <td>A teacher is explaining to her class how diffe...</td>\n",
       "    </tr>\n",
       "    <tr>\n",
       "      <th>1448363</th>\n",
       "      <td>11528</td>\n",
       "      <td>3</td>\n",
       "      <td>9.32</td>\n",
       "      <td>Q. What's 200 feet long and has 4 teeth? A. Th...</td>\n",
       "    </tr>\n",
       "  </tbody>\n",
       "</table>\n",
       "<p>1448364 rows × 4 columns</p>\n",
       "</div>"
      ],
      "text/plain": [
       "           UID  JID  Rating                                          joke_text\n",
       "0        18029    6   -1.26  Bill & Hillary are on a trip back to Arkansas....\n",
       "1         3298   64   -4.17  What is the rallying cry of the International ...\n",
       "2         3366   58    0.92  How many teddybears does it take to change a l...\n",
       "3        12735   92    3.69  Early one morning a mother went to her sleepin...\n",
       "4        11365   38   -6.60  \"May I take your order?\" the waiter asked. \"Ye...\n",
       "...        ...  ...     ...                                                ...\n",
       "1448359  22604   26    2.82  A guy walks into a bar and sits down next to a...\n",
       "1448360  22255   36   -1.94  A guy walks into a bar, orders a beer and says...\n",
       "1448361  21056   40   -9.56  How many Irishmen does it take to change a lig...\n",
       "1448362  12328   97    0.87  A teacher is explaining to her class how diffe...\n",
       "1448363  11528    3    9.32  Q. What's 200 feet long and has 4 teeth? A. Th...\n",
       "\n",
       "[1448364 rows x 4 columns]"
      ]
     },
     "execution_count": 34,
     "metadata": {},
     "output_type": "execute_result"
    }
   ],
   "source": [
    "data = add_joke_text_from_files('jokes', df_train)\n",
    "data"
   ]
  },
  {
   "attachments": {},
   "cell_type": "markdown",
   "metadata": {},
   "source": [
    "Добавляем тексты шуток в тестовую таблицу"
   ]
  },
  {
   "cell_type": "code",
   "execution_count": 35,
   "metadata": {},
   "outputs": [
    {
     "data": {
      "text/html": [
       "<div>\n",
       "<style scoped>\n",
       "    .dataframe tbody tr th:only-of-type {\n",
       "        vertical-align: middle;\n",
       "    }\n",
       "\n",
       "    .dataframe tbody tr th {\n",
       "        vertical-align: top;\n",
       "    }\n",
       "\n",
       "    .dataframe thead th {\n",
       "        text-align: right;\n",
       "    }\n",
       "</style>\n",
       "<table border=\"1\" class=\"dataframe\">\n",
       "  <thead>\n",
       "    <tr style=\"text-align: right;\">\n",
       "      <th></th>\n",
       "      <th>InteractionID</th>\n",
       "      <th>UID</th>\n",
       "      <th>JID</th>\n",
       "      <th>joke_text</th>\n",
       "    </tr>\n",
       "  </thead>\n",
       "  <tbody>\n",
       "    <tr>\n",
       "      <th>0</th>\n",
       "      <td>0</td>\n",
       "      <td>11228</td>\n",
       "      <td>39</td>\n",
       "      <td>What is the difference between men and women:A...</td>\n",
       "    </tr>\n",
       "    <tr>\n",
       "      <th>1</th>\n",
       "      <td>1</td>\n",
       "      <td>21724</td>\n",
       "      <td>85</td>\n",
       "      <td>Q: How many Presidents does it take to screw i...</td>\n",
       "    </tr>\n",
       "    <tr>\n",
       "      <th>2</th>\n",
       "      <td>2</td>\n",
       "      <td>16782</td>\n",
       "      <td>56</td>\n",
       "      <td>A man and Cindy Crawford get stranded on a des...</td>\n",
       "    </tr>\n",
       "    <tr>\n",
       "      <th>3</th>\n",
       "      <td>3</td>\n",
       "      <td>12105</td>\n",
       "      <td>42</td>\n",
       "      <td>Two men are discussing the age old question: w...</td>\n",
       "    </tr>\n",
       "    <tr>\n",
       "      <th>4</th>\n",
       "      <td>4</td>\n",
       "      <td>14427</td>\n",
       "      <td>2</td>\n",
       "      <td>of 25   This couple had an excellent relations...</td>\n",
       "    </tr>\n",
       "    <tr>\n",
       "      <th>5</th>\n",
       "      <td>5</td>\n",
       "      <td>4436</td>\n",
       "      <td>13</td>\n",
       "      <td>of 20    They asked the Japanese visitor if th...</td>\n",
       "    </tr>\n",
       "    <tr>\n",
       "      <th>6</th>\n",
       "      <td>6</td>\n",
       "      <td>8311</td>\n",
       "      <td>45</td>\n",
       "      <td>A boy comes home from school and tells his mot...</td>\n",
       "    </tr>\n",
       "    <tr>\n",
       "      <th>7</th>\n",
       "      <td>7</td>\n",
       "      <td>20915</td>\n",
       "      <td>9</td>\n",
       "      <td>A country guy goes into a city bar that has a ...</td>\n",
       "    </tr>\n",
       "    <tr>\n",
       "      <th>8</th>\n",
       "      <td>8</td>\n",
       "      <td>2392</td>\n",
       "      <td>33</td>\n",
       "      <td>What do you call an American in the finals of ...</td>\n",
       "    </tr>\n",
       "    <tr>\n",
       "      <th>9</th>\n",
       "      <td>9</td>\n",
       "      <td>12458</td>\n",
       "      <td>15</td>\n",
       "      <td>of 20   Q:  What did the blind person say when...</td>\n",
       "    </tr>\n",
       "  </tbody>\n",
       "</table>\n",
       "</div>"
      ],
      "text/plain": [
       "   InteractionID    UID  JID   \n",
       "0              0  11228   39  \\\n",
       "1              1  21724   85   \n",
       "2              2  16782   56   \n",
       "3              3  12105   42   \n",
       "4              4  14427    2   \n",
       "5              5   4436   13   \n",
       "6              6   8311   45   \n",
       "7              7  20915    9   \n",
       "8              8   2392   33   \n",
       "9              9  12458   15   \n",
       "\n",
       "                                           joke_text  \n",
       "0  What is the difference between men and women:A...  \n",
       "1  Q: How many Presidents does it take to screw i...  \n",
       "2  A man and Cindy Crawford get stranded on a des...  \n",
       "3  Two men are discussing the age old question: w...  \n",
       "4  of 25   This couple had an excellent relations...  \n",
       "5  of 20    They asked the Japanese visitor if th...  \n",
       "6  A boy comes home from school and tells his mot...  \n",
       "7  A country guy goes into a city bar that has a ...  \n",
       "8  What do you call an American in the finals of ...  \n",
       "9  of 20   Q:  What did the blind person say when...  "
      ]
     },
     "execution_count": 35,
     "metadata": {},
     "output_type": "execute_result"
    }
   ],
   "source": [
    "data_test = add_joke_text_from_files('jokes', df_test)\n",
    "data_test.head(10)"
   ]
  },
  {
   "attachments": {},
   "cell_type": "markdown",
   "metadata": {},
   "source": [
    "Проверяем данные различными срезами"
   ]
  },
  {
   "cell_type": "code",
   "execution_count": 36,
   "metadata": {},
   "outputs": [
    {
     "data": {
      "text/html": [
       "<div>\n",
       "<style scoped>\n",
       "    .dataframe tbody tr th:only-of-type {\n",
       "        vertical-align: middle;\n",
       "    }\n",
       "\n",
       "    .dataframe tbody tr th {\n",
       "        vertical-align: top;\n",
       "    }\n",
       "\n",
       "    .dataframe thead th {\n",
       "        text-align: right;\n",
       "    }\n",
       "</style>\n",
       "<table border=\"1\" class=\"dataframe\">\n",
       "  <thead>\n",
       "    <tr style=\"text-align: right;\">\n",
       "      <th></th>\n",
       "      <th>UID</th>\n",
       "      <th>JID</th>\n",
       "      <th>Rating</th>\n",
       "      <th>joke_text</th>\n",
       "    </tr>\n",
       "  </thead>\n",
       "  <tbody>\n",
       "    <tr>\n",
       "      <th>139</th>\n",
       "      <td>14903</td>\n",
       "      <td>7</td>\n",
       "      <td>-8.06</td>\n",
       "      <td>How many feminists does it take to screw in a ...</td>\n",
       "    </tr>\n",
       "    <tr>\n",
       "      <th>546</th>\n",
       "      <td>24253</td>\n",
       "      <td>7</td>\n",
       "      <td>-9.90</td>\n",
       "      <td>How many feminists does it take to screw in a ...</td>\n",
       "    </tr>\n",
       "    <tr>\n",
       "      <th>598</th>\n",
       "      <td>8522</td>\n",
       "      <td>7</td>\n",
       "      <td>-7.57</td>\n",
       "      <td>How many feminists does it take to screw in a ...</td>\n",
       "    </tr>\n",
       "    <tr>\n",
       "      <th>656</th>\n",
       "      <td>3513</td>\n",
       "      <td>7</td>\n",
       "      <td>-2.82</td>\n",
       "      <td>How many feminists does it take to screw in a ...</td>\n",
       "    </tr>\n",
       "    <tr>\n",
       "      <th>802</th>\n",
       "      <td>5814</td>\n",
       "      <td>7</td>\n",
       "      <td>7.28</td>\n",
       "      <td>How many feminists does it take to screw in a ...</td>\n",
       "    </tr>\n",
       "    <tr>\n",
       "      <th>...</th>\n",
       "      <td>...</td>\n",
       "      <td>...</td>\n",
       "      <td>...</td>\n",
       "      <td>...</td>\n",
       "    </tr>\n",
       "    <tr>\n",
       "      <th>1448135</th>\n",
       "      <td>9056</td>\n",
       "      <td>7</td>\n",
       "      <td>-5.97</td>\n",
       "      <td>How many feminists does it take to screw in a ...</td>\n",
       "    </tr>\n",
       "    <tr>\n",
       "      <th>1448258</th>\n",
       "      <td>7633</td>\n",
       "      <td>7</td>\n",
       "      <td>-4.22</td>\n",
       "      <td>How many feminists does it take to screw in a ...</td>\n",
       "    </tr>\n",
       "    <tr>\n",
       "      <th>1448277</th>\n",
       "      <td>16620</td>\n",
       "      <td>7</td>\n",
       "      <td>-7.23</td>\n",
       "      <td>How many feminists does it take to screw in a ...</td>\n",
       "    </tr>\n",
       "    <tr>\n",
       "      <th>1448303</th>\n",
       "      <td>24542</td>\n",
       "      <td>7</td>\n",
       "      <td>-4.66</td>\n",
       "      <td>How many feminists does it take to screw in a ...</td>\n",
       "    </tr>\n",
       "    <tr>\n",
       "      <th>1448338</th>\n",
       "      <td>18497</td>\n",
       "      <td>7</td>\n",
       "      <td>-8.98</td>\n",
       "      <td>How many feminists does it take to screw in a ...</td>\n",
       "    </tr>\n",
       "  </tbody>\n",
       "</table>\n",
       "<p>20128 rows × 4 columns</p>\n",
       "</div>"
      ],
      "text/plain": [
       "           UID  JID  Rating                                          joke_text\n",
       "139      14903    7   -8.06  How many feminists does it take to screw in a ...\n",
       "546      24253    7   -9.90  How many feminists does it take to screw in a ...\n",
       "598       8522    7   -7.57  How many feminists does it take to screw in a ...\n",
       "656       3513    7   -2.82  How many feminists does it take to screw in a ...\n",
       "802       5814    7    7.28  How many feminists does it take to screw in a ...\n",
       "...        ...  ...     ...                                                ...\n",
       "1448135   9056    7   -5.97  How many feminists does it take to screw in a ...\n",
       "1448258   7633    7   -4.22  How many feminists does it take to screw in a ...\n",
       "1448277  16620    7   -7.23  How many feminists does it take to screw in a ...\n",
       "1448303  24542    7   -4.66  How many feminists does it take to screw in a ...\n",
       "1448338  18497    7   -8.98  How many feminists does it take to screw in a ...\n",
       "\n",
       "[20128 rows x 4 columns]"
      ]
     },
     "execution_count": 36,
     "metadata": {},
     "output_type": "execute_result"
    }
   ],
   "source": [
    "data.query('JID==7')"
   ]
  },
  {
   "cell_type": "code",
   "execution_count": 37,
   "metadata": {},
   "outputs": [
    {
     "data": {
      "text/html": [
       "<div>\n",
       "<style scoped>\n",
       "    .dataframe tbody tr th:only-of-type {\n",
       "        vertical-align: middle;\n",
       "    }\n",
       "\n",
       "    .dataframe tbody tr th {\n",
       "        vertical-align: top;\n",
       "    }\n",
       "\n",
       "    .dataframe thead th {\n",
       "        text-align: right;\n",
       "    }\n",
       "</style>\n",
       "<table border=\"1\" class=\"dataframe\">\n",
       "  <thead>\n",
       "    <tr style=\"text-align: right;\">\n",
       "      <th></th>\n",
       "      <th>InteractionID</th>\n",
       "      <th>UID</th>\n",
       "      <th>JID</th>\n",
       "      <th>joke_text</th>\n",
       "    </tr>\n",
       "  </thead>\n",
       "  <tbody>\n",
       "    <tr>\n",
       "      <th>19</th>\n",
       "      <td>19</td>\n",
       "      <td>10762</td>\n",
       "      <td>7</td>\n",
       "      <td>How many feminists does it take to screw in a ...</td>\n",
       "    </tr>\n",
       "    <tr>\n",
       "      <th>185</th>\n",
       "      <td>185</td>\n",
       "      <td>21704</td>\n",
       "      <td>7</td>\n",
       "      <td>How many feminists does it take to screw in a ...</td>\n",
       "    </tr>\n",
       "    <tr>\n",
       "      <th>430</th>\n",
       "      <td>430</td>\n",
       "      <td>13926</td>\n",
       "      <td>7</td>\n",
       "      <td>How many feminists does it take to screw in a ...</td>\n",
       "    </tr>\n",
       "    <tr>\n",
       "      <th>496</th>\n",
       "      <td>496</td>\n",
       "      <td>3826</td>\n",
       "      <td>7</td>\n",
       "      <td>How many feminists does it take to screw in a ...</td>\n",
       "    </tr>\n",
       "    <tr>\n",
       "      <th>669</th>\n",
       "      <td>669</td>\n",
       "      <td>11944</td>\n",
       "      <td>7</td>\n",
       "      <td>How many feminists does it take to screw in a ...</td>\n",
       "    </tr>\n",
       "    <tr>\n",
       "      <th>...</th>\n",
       "      <td>...</td>\n",
       "      <td>...</td>\n",
       "      <td>...</td>\n",
       "      <td>...</td>\n",
       "    </tr>\n",
       "    <tr>\n",
       "      <th>361799</th>\n",
       "      <td>361799</td>\n",
       "      <td>3992</td>\n",
       "      <td>7</td>\n",
       "      <td>How many feminists does it take to screw in a ...</td>\n",
       "    </tr>\n",
       "    <tr>\n",
       "      <th>361847</th>\n",
       "      <td>361847</td>\n",
       "      <td>9279</td>\n",
       "      <td>7</td>\n",
       "      <td>How many feminists does it take to screw in a ...</td>\n",
       "    </tr>\n",
       "    <tr>\n",
       "      <th>361892</th>\n",
       "      <td>361892</td>\n",
       "      <td>16161</td>\n",
       "      <td>7</td>\n",
       "      <td>How many feminists does it take to screw in a ...</td>\n",
       "    </tr>\n",
       "    <tr>\n",
       "      <th>361998</th>\n",
       "      <td>361998</td>\n",
       "      <td>8426</td>\n",
       "      <td>7</td>\n",
       "      <td>How many feminists does it take to screw in a ...</td>\n",
       "    </tr>\n",
       "    <tr>\n",
       "      <th>361999</th>\n",
       "      <td>361999</td>\n",
       "      <td>2349</td>\n",
       "      <td>7</td>\n",
       "      <td>How many feminists does it take to screw in a ...</td>\n",
       "    </tr>\n",
       "  </tbody>\n",
       "</table>\n",
       "<p>4848 rows × 4 columns</p>\n",
       "</div>"
      ],
      "text/plain": [
       "        InteractionID    UID  JID   \n",
       "19                 19  10762    7  \\\n",
       "185               185  21704    7   \n",
       "430               430  13926    7   \n",
       "496               496   3826    7   \n",
       "669               669  11944    7   \n",
       "...               ...    ...  ...   \n",
       "361799         361799   3992    7   \n",
       "361847         361847   9279    7   \n",
       "361892         361892  16161    7   \n",
       "361998         361998   8426    7   \n",
       "361999         361999   2349    7   \n",
       "\n",
       "                                                joke_text  \n",
       "19      How many feminists does it take to screw in a ...  \n",
       "185     How many feminists does it take to screw in a ...  \n",
       "430     How many feminists does it take to screw in a ...  \n",
       "496     How many feminists does it take to screw in a ...  \n",
       "669     How many feminists does it take to screw in a ...  \n",
       "...                                                   ...  \n",
       "361799  How many feminists does it take to screw in a ...  \n",
       "361847  How many feminists does it take to screw in a ...  \n",
       "361892  How many feminists does it take to screw in a ...  \n",
       "361998  How many feminists does it take to screw in a ...  \n",
       "361999  How many feminists does it take to screw in a ...  \n",
       "\n",
       "[4848 rows x 4 columns]"
      ]
     },
     "execution_count": 37,
     "metadata": {},
     "output_type": "execute_result"
    }
   ],
   "source": [
    "data_test.query('JID==7')"
   ]
  },
  {
   "cell_type": "code",
   "execution_count": 38,
   "metadata": {},
   "outputs": [
    {
     "data": {
      "text/plain": [
       "UID\n",
       "1    62\n",
       "2    84\n",
       "3    41\n",
       "4    39\n",
       "5    80\n",
       "Name: JID, dtype: int64"
      ]
     },
     "execution_count": 38,
     "metadata": {},
     "output_type": "execute_result"
    }
   ],
   "source": [
    "uid_grouped = data.groupby('UID')['JID'].agg('count')\n",
    "uid_grouped.head(5)"
   ]
  },
  {
   "cell_type": "code",
   "execution_count": 39,
   "metadata": {},
   "outputs": [
    {
     "data": {
      "text/plain": [
       "JID\n",
       "50    3.648577\n",
       "89    3.623128\n",
       "36    3.319388\n",
       "27    3.207354\n",
       "32    3.181644\n",
       "62    3.000426\n",
       "35    2.981776\n",
       "29    2.953855\n",
       "53    2.939566\n",
       "72    2.830575\n",
       "49    2.760112\n",
       "54    2.753794\n",
       "68    2.618187\n",
       "69    2.582571\n",
       "66    2.518668\n",
       "Name: Rating, dtype: float64"
      ]
     },
     "execution_count": 39,
     "metadata": {},
     "output_type": "execute_result"
    }
   ],
   "source": [
    "data.groupby('JID')['Rating'].mean().sort_values(ascending=False).head(15)"
   ]
  },
  {
   "cell_type": "code",
   "execution_count": 40,
   "metadata": {},
   "outputs": [
    {
     "data": {
      "text/plain": [
       "<pandas.core.groupby.generic.DataFrameGroupBy object at 0x28aaa22e0>"
      ]
     },
     "execution_count": 40,
     "metadata": {},
     "output_type": "execute_result"
    }
   ],
   "source": [
    "uid_grouped = data.groupby('UID')\n",
    "uid_grouped"
   ]
  },
  {
   "cell_type": "code",
   "execution_count": 41,
   "metadata": {},
   "outputs": [
    {
     "data": {
      "text/html": [
       "<div>\n",
       "<style scoped>\n",
       "    .dataframe tbody tr th:only-of-type {\n",
       "        vertical-align: middle;\n",
       "    }\n",
       "\n",
       "    .dataframe tbody tr th {\n",
       "        vertical-align: top;\n",
       "    }\n",
       "\n",
       "    .dataframe thead th {\n",
       "        text-align: right;\n",
       "    }\n",
       "</style>\n",
       "<table border=\"1\" class=\"dataframe\">\n",
       "  <thead>\n",
       "    <tr style=\"text-align: right;\">\n",
       "      <th></th>\n",
       "      <th>UID</th>\n",
       "      <th>JID</th>\n",
       "      <th>Rating</th>\n",
       "      <th>joke_text</th>\n",
       "    </tr>\n",
       "  </thead>\n",
       "  <tbody>\n",
       "    <tr>\n",
       "      <th>80144</th>\n",
       "      <td>1</td>\n",
       "      <td>29</td>\n",
       "      <td>9.13</td>\n",
       "      <td>An old Scotsmen is sitting with a younger Scot...</td>\n",
       "    </tr>\n",
       "    <tr>\n",
       "      <th>23332</th>\n",
       "      <td>2</td>\n",
       "      <td>10</td>\n",
       "      <td>9.22</td>\n",
       "      <td>of 20    Two cannibals are eating a clown, one...</td>\n",
       "    </tr>\n",
       "    <tr>\n",
       "      <th>506425</th>\n",
       "      <td>3</td>\n",
       "      <td>13</td>\n",
       "      <td>9.37</td>\n",
       "      <td>of 20    They asked the Japanese visitor if th...</td>\n",
       "    </tr>\n",
       "    <tr>\n",
       "      <th>709263</th>\n",
       "      <td>4</td>\n",
       "      <td>2</td>\n",
       "      <td>8.35</td>\n",
       "      <td>of 25   This couple had an excellent relations...</td>\n",
       "    </tr>\n",
       "    <tr>\n",
       "      <th>876585</th>\n",
       "      <td>5</td>\n",
       "      <td>53</td>\n",
       "      <td>8.93</td>\n",
       "      <td>One Sunday morning William burst into the livi...</td>\n",
       "    </tr>\n",
       "    <tr>\n",
       "      <th>...</th>\n",
       "      <td>...</td>\n",
       "      <td>...</td>\n",
       "      <td>...</td>\n",
       "      <td>...</td>\n",
       "    </tr>\n",
       "    <tr>\n",
       "      <th>922980</th>\n",
       "      <td>24979</td>\n",
       "      <td>64</td>\n",
       "      <td>9.27</td>\n",
       "      <td>What is the rallying cry of the International ...</td>\n",
       "    </tr>\n",
       "    <tr>\n",
       "      <th>847206</th>\n",
       "      <td>24980</td>\n",
       "      <td>95</td>\n",
       "      <td>9.22</td>\n",
       "      <td>Just a thought ..Before criticizing someone, w...</td>\n",
       "    </tr>\n",
       "    <tr>\n",
       "      <th>861452</th>\n",
       "      <td>24981</td>\n",
       "      <td>51</td>\n",
       "      <td>7.38</td>\n",
       "      <td>Did you hear that Clinton has announced there ...</td>\n",
       "    </tr>\n",
       "    <tr>\n",
       "      <th>642448</th>\n",
       "      <td>24982</td>\n",
       "      <td>29</td>\n",
       "      <td>8.30</td>\n",
       "      <td>An old Scotsmen is sitting with a younger Scot...</td>\n",
       "    </tr>\n",
       "    <tr>\n",
       "      <th>1257086</th>\n",
       "      <td>24983</td>\n",
       "      <td>50</td>\n",
       "      <td>8.98</td>\n",
       "      <td>A guy goes into confession and says to the pri...</td>\n",
       "    </tr>\n",
       "  </tbody>\n",
       "</table>\n",
       "<p>24983 rows × 4 columns</p>\n",
       "</div>"
      ],
      "text/plain": [
       "           UID  JID  Rating                                          joke_text\n",
       "80144        1   29    9.13  An old Scotsmen is sitting with a younger Scot...\n",
       "23332        2   10    9.22  of 20    Two cannibals are eating a clown, one...\n",
       "506425       3   13    9.37  of 20    They asked the Japanese visitor if th...\n",
       "709263       4    2    8.35  of 25   This couple had an excellent relations...\n",
       "876585       5   53    8.93  One Sunday morning William burst into the livi...\n",
       "...        ...  ...     ...                                                ...\n",
       "922980   24979   64    9.27  What is the rallying cry of the International ...\n",
       "847206   24980   95    9.22  Just a thought ..Before criticizing someone, w...\n",
       "861452   24981   51    7.38  Did you hear that Clinton has announced there ...\n",
       "642448   24982   29    8.30  An old Scotsmen is sitting with a younger Scot...\n",
       "1257086  24983   50    8.98  A guy goes into confession and says to the pri...\n",
       "\n",
       "[24983 rows x 4 columns]"
      ]
     },
     "execution_count": 41,
     "metadata": {},
     "output_type": "execute_result"
    }
   ],
   "source": [
    "max_ratings = data.groupby('UID')['Rating'].idxmax()\n",
    "#получили таблицу с любимыми шутками для каждого пользователя\n",
    "# Выбор строк с наивысшей оценкой для каждого пользователя\n",
    "result = data.loc[max_ratings]\n",
    "result"
   ]
  },
  {
   "cell_type": "code",
   "execution_count": 42,
   "metadata": {},
   "outputs": [
    {
     "data": {
      "text/plain": [
       "24983"
      ]
     },
     "execution_count": 42,
     "metadata": {},
     "output_type": "execute_result"
    }
   ],
   "source": [
    "len(data.UID.unique())"
   ]
  },
  {
   "cell_type": "code",
   "execution_count": 43,
   "metadata": {},
   "outputs": [
    {
     "data": {
      "text/html": [
       "<div>\n",
       "<style scoped>\n",
       "    .dataframe tbody tr th:only-of-type {\n",
       "        vertical-align: middle;\n",
       "    }\n",
       "\n",
       "    .dataframe tbody tr th {\n",
       "        vertical-align: top;\n",
       "    }\n",
       "\n",
       "    .dataframe thead th {\n",
       "        text-align: right;\n",
       "    }\n",
       "</style>\n",
       "<table border=\"1\" class=\"dataframe\">\n",
       "  <thead>\n",
       "    <tr style=\"text-align: right;\">\n",
       "      <th></th>\n",
       "      <th>UID</th>\n",
       "      <th>JID</th>\n",
       "      <th>Rating</th>\n",
       "      <th>joke_text</th>\n",
       "    </tr>\n",
       "  </thead>\n",
       "  <tbody>\n",
       "    <tr>\n",
       "      <th>668296</th>\n",
       "      <td>24599</td>\n",
       "      <td>89</td>\n",
       "      <td>7.86</td>\n",
       "      <td>A radio conversation of a US naval ship with C...</td>\n",
       "    </tr>\n",
       "    <tr>\n",
       "      <th>644217</th>\n",
       "      <td>11884</td>\n",
       "      <td>3</td>\n",
       "      <td>-3.01</td>\n",
       "      <td>Q. What's 200 feet long and has 4 teeth? A. Th...</td>\n",
       "    </tr>\n",
       "    <tr>\n",
       "      <th>928132</th>\n",
       "      <td>23705</td>\n",
       "      <td>33</td>\n",
       "      <td>0.10</td>\n",
       "      <td>What do you call an American in the finals of ...</td>\n",
       "    </tr>\n",
       "    <tr>\n",
       "      <th>1147008</th>\n",
       "      <td>3256</td>\n",
       "      <td>43</td>\n",
       "      <td>-8.98</td>\n",
       "      <td>Arnold Swartzeneger and Sylvester Stallone are...</td>\n",
       "    </tr>\n",
       "    <tr>\n",
       "      <th>1189487</th>\n",
       "      <td>1198</td>\n",
       "      <td>96</td>\n",
       "      <td>4.32</td>\n",
       "      <td>Two attorneys went into a diner and ordered tw...</td>\n",
       "    </tr>\n",
       "    <tr>\n",
       "      <th>...</th>\n",
       "      <td>...</td>\n",
       "      <td>...</td>\n",
       "      <td>...</td>\n",
       "      <td>...</td>\n",
       "    </tr>\n",
       "    <tr>\n",
       "      <th>130763</th>\n",
       "      <td>16229</td>\n",
       "      <td>22</td>\n",
       "      <td>3.98</td>\n",
       "      <td>A duck walks into a pharmacy and asks for a co...</td>\n",
       "    </tr>\n",
       "    <tr>\n",
       "      <th>1145038</th>\n",
       "      <td>5396</td>\n",
       "      <td>50</td>\n",
       "      <td>7.91</td>\n",
       "      <td>A guy goes into confession and says to the pri...</td>\n",
       "    </tr>\n",
       "    <tr>\n",
       "      <th>323356</th>\n",
       "      <td>2312</td>\n",
       "      <td>45</td>\n",
       "      <td>1.55</td>\n",
       "      <td>A boy comes home from school and tells his mot...</td>\n",
       "    </tr>\n",
       "    <tr>\n",
       "      <th>501517</th>\n",
       "      <td>14555</td>\n",
       "      <td>1</td>\n",
       "      <td>-6.75</td>\n",
       "      <td>of 25  A man visits the doctor. The doctor say...</td>\n",
       "    </tr>\n",
       "    <tr>\n",
       "      <th>1339182</th>\n",
       "      <td>14675</td>\n",
       "      <td>47</td>\n",
       "      <td>2.23</td>\n",
       "      <td>There was an engineer who had an exceptional g...</td>\n",
       "    </tr>\n",
       "  </tbody>\n",
       "</table>\n",
       "<p>1158691 rows × 4 columns</p>\n",
       "</div>"
      ],
      "text/plain": [
       "           UID  JID  Rating                                          joke_text\n",
       "668296   24599   89    7.86  A radio conversation of a US naval ship with C...\n",
       "644217   11884    3   -3.01  Q. What's 200 feet long and has 4 teeth? A. Th...\n",
       "928132   23705   33    0.10  What do you call an American in the finals of ...\n",
       "1147008   3256   43   -8.98  Arnold Swartzeneger and Sylvester Stallone are...\n",
       "1189487   1198   96    4.32  Two attorneys went into a diner and ordered tw...\n",
       "...        ...  ...     ...                                                ...\n",
       "130763   16229   22    3.98  A duck walks into a pharmacy and asks for a co...\n",
       "1145038   5396   50    7.91  A guy goes into confession and says to the pri...\n",
       "323356    2312   45    1.55  A boy comes home from school and tells his mot...\n",
       "501517   14555    1   -6.75  of 25  A man visits the doctor. The doctor say...\n",
       "1339182  14675   47    2.23  There was an engineer who had an exceptional g...\n",
       "\n",
       "[1158691 rows x 4 columns]"
      ]
     },
     "execution_count": 43,
     "metadata": {},
     "output_type": "execute_result"
    }
   ],
   "source": [
    "train = data.sample(frac=0.8).copy()\n",
    "train"
   ]
  },
  {
   "cell_type": "code",
   "execution_count": 44,
   "metadata": {},
   "outputs": [],
   "source": [
    "val = data[~data.index.isin(train.index)].copy()\n"
   ]
  },
  {
   "attachments": {},
   "cell_type": "markdown",
   "metadata": {},
   "source": [
    "### CAT BOOST"
   ]
  },
  {
   "attachments": {},
   "cell_type": "markdown",
   "metadata": {},
   "source": [
    "Сначала обрабатывала текст с помощью TF_IDF и NFM но обработка идет очень долго и при merge данных отваливается ядро, решила прогнозировать просто на основе модели, которая может принимать текст"
   ]
  },
  {
   "cell_type": "code",
   "execution_count": 45,
   "metadata": {},
   "outputs": [],
   "source": [
    "X_col = ['joke_text', 'UID']\n",
    "y_col = ['Rating']\n",
    "text_features = ['joke_text']"
   ]
  },
  {
   "cell_type": "code",
   "execution_count": 46,
   "metadata": {},
   "outputs": [],
   "source": [
    "model = catboost.CatBoostRegressor(task_type=\"CPU\", text_features=text_features,  # loss_function='RMSE',\n",
    "                                   # iterations=1500, learning_rate=0.02, depth=6)\n",
    "                                   iterations=1000,\n",
    "                                   learning_rate=0.1,\n",
    "                                   depth=4,\n",
    "                                   l2_leaf_reg=1,\n",
    "                                   bagging_temperature=0.8,\n",
    "                                   random_strength=0.5,\n",
    "                                   border_count=100,\n",
    "                                   bootstrap_type='Bayesian', verbose=150)"
   ]
  },
  {
   "cell_type": "code",
   "execution_count": 47,
   "metadata": {},
   "outputs": [
    {
     "name": "stdout",
     "output_type": "stream",
     "text": [
      "0:\tlearn: 5.2125272\ttest: 5.2095529\tbest: 5.2095529 (0)\ttotal: 541ms\tremaining: 9m\n",
      "150:\tlearn: 4.9840452\ttest: 4.9789523\tbest: 4.9789523 (150)\ttotal: 1m 5s\tremaining: 6m 8s\n",
      "300:\tlearn: 4.9777453\ttest: 4.9727431\tbest: 4.9727431 (300)\ttotal: 2m 11s\tremaining: 5m 5s\n",
      "450:\tlearn: 4.9754256\ttest: 4.9710410\tbest: 4.9710410 (450)\ttotal: 3m 20s\tremaining: 4m 3s\n",
      "600:\tlearn: 4.9741115\ttest: 4.9702622\tbest: 4.9702622 (600)\ttotal: 4m 33s\tremaining: 3m 1s\n",
      "750:\tlearn: 4.9731402\ttest: 4.9697817\tbest: 4.9697817 (750)\ttotal: 5m 44s\tremaining: 1m 54s\n",
      "900:\tlearn: 4.9723772\ttest: 4.9694581\tbest: 4.9694581 (900)\ttotal: 6m 53s\tremaining: 45.5s\n",
      "999:\tlearn: 4.9720247\ttest: 4.9693776\tbest: 4.9693776 (999)\ttotal: 7m 38s\tremaining: 0us\n",
      "\n",
      "bestTest = 4.969377612\n",
      "bestIteration = 999\n",
      "\n"
     ]
    },
    {
     "data": {
      "text/plain": [
       "<catboost.core.CatBoostRegressor at 0x13fba0d90>"
      ]
     },
     "execution_count": 47,
     "metadata": {},
     "output_type": "execute_result"
    }
   ],
   "source": [
    "model.fit(train[X_col], train[y_col],\n",
    "          eval_set=(val[X_col], val[y_col]))"
   ]
  },
  {
   "cell_type": "code",
   "execution_count": 48,
   "metadata": {},
   "outputs": [],
   "source": [
    "model_i= catboost.CatBoostRegressor(task_type=\"CPU\", text_features=text_features,  # loss_function='RMSE',\n",
    "                                   iterations=300, learning_rate=0.1, depth=4, verbose=30\n",
    "                                   )"
   ]
  },
  {
   "cell_type": "code",
   "execution_count": 49,
   "metadata": {},
   "outputs": [
    {
     "name": "stdout",
     "output_type": "stream",
     "text": [
      "0:\tlearn: 1.7406837\ttest: 8.6736092\tbest: 8.6736092 (0)\ttotal: 28.6ms\tremaining: 8.56s\n",
      "30:\tlearn: 1.7331924\ttest: 8.6799339\tbest: 8.6736092 (0)\ttotal: 632ms\tremaining: 5.49s\n",
      "60:\tlearn: 1.7304290\ttest: 8.6828576\tbest: 8.6736092 (0)\ttotal: 1.22s\tremaining: 4.77s\n",
      "90:\tlearn: 1.7290700\ttest: 8.6856099\tbest: 8.6736092 (0)\ttotal: 1.8s\tremaining: 4.14s\n",
      "120:\tlearn: 1.7255863\ttest: 8.6879579\tbest: 8.6736092 (0)\ttotal: 2.4s\tremaining: 3.55s\n",
      "150:\tlearn: 1.7209446\ttest: 8.6892030\tbest: 8.6736092 (0)\ttotal: 3.03s\tremaining: 2.99s\n",
      "180:\tlearn: 1.7171062\ttest: 8.6897389\tbest: 8.6736092 (0)\ttotal: 3.66s\tremaining: 2.41s\n",
      "210:\tlearn: 1.7136114\ttest: 8.6911857\tbest: 8.6736092 (0)\ttotal: 4.28s\tremaining: 1.81s\n",
      "240:\tlearn: 1.7106653\ttest: 8.6919212\tbest: 8.6736092 (0)\ttotal: 4.91s\tremaining: 1.2s\n",
      "270:\tlearn: 1.7077504\ttest: 8.6927765\tbest: 8.6736092 (0)\ttotal: 5.52s\tremaining: 591ms\n",
      "299:\tlearn: 1.7049962\ttest: 8.6933048\tbest: 8.6736092 (0)\ttotal: 6.13s\tremaining: 0us\n",
      "\n",
      "bestTest = 8.673609177\n",
      "bestIteration = 0\n",
      "\n",
      "Shrink model to first 1 iterations.\n"
     ]
    },
    {
     "data": {
      "text/plain": [
       "<catboost.core.CatBoostRegressor at 0x13fb98700>"
      ]
     },
     "execution_count": 49,
     "metadata": {},
     "output_type": "execute_result"
    }
   ],
   "source": [
    "model_i.fit(result[X_col], result[y_col],\n",
    "          eval_set=(val[X_col], val[y_col]))"
   ]
  },
  {
   "cell_type": "code",
   "execution_count": 50,
   "metadata": {},
   "outputs": [],
   "source": [
    "def recommend_items_for_user_i(UID):\n",
    "    # Нахождение элементов, которые пользователь оценил в обучающем наборе данных\n",
    "    user_rated_jokes = result[result['UID'] == UID]['JID'].unique()\n",
    "\n",
    "    # Нахождение элементов, которые пользователь не оценил в обучающем наборе данных, но присутствуют в тестовом наборе данных\n",
    "    items_to_recommend = np.setdiff1d(\n",
    "        data_test['JID'].unique(), user_rated_jokes)\n",
    "\n",
    "    # Создание DataFrame с элементами, которые пользователь не оценивал\n",
    "    user_items = data_test[data_test['JID'].isin(\n",
    "        items_to_recommend)].drop_duplicates(subset='JID').copy()\n",
    "    user_items['UID'] = UID\n",
    "\n",
    "    # # Получение предсказаний для элементов, которые пользователь еще не оценил\n",
    "    predictions = model_i.predict(user_items[X_col])\n",
    "\n",
    "    # # Создание DataFrame с предсказанными оценками\n",
    "    user_items['Wei'] = predictions\n",
    "\n",
    "    # # Сортировка элементов по предсказанной оценке\n",
    "    recommended_items = user_items.groupby(\n",
    "         'JID').max().sort_values(by='Wei', ascending=False)\n",
    "\n",
    "    # # Получение топ-N рекомендаций для пользователя\n",
    "    #top_n_recommendations = recommended_items.head(10).index.tolist()\n",
    "\n",
    "    return recommended_items"
   ]
  },
  {
   "cell_type": "code",
   "execution_count": 51,
   "metadata": {},
   "outputs": [
    {
     "data": {
      "text/html": [
       "<div>\n",
       "<style scoped>\n",
       "    .dataframe tbody tr th:only-of-type {\n",
       "        vertical-align: middle;\n",
       "    }\n",
       "\n",
       "    .dataframe tbody tr th {\n",
       "        vertical-align: top;\n",
       "    }\n",
       "\n",
       "    .dataframe thead th {\n",
       "        text-align: right;\n",
       "    }\n",
       "</style>\n",
       "<table border=\"1\" class=\"dataframe\">\n",
       "  <thead>\n",
       "    <tr style=\"text-align: right;\">\n",
       "      <th></th>\n",
       "      <th>InteractionID</th>\n",
       "      <th>UID</th>\n",
       "      <th>joke_text</th>\n",
       "      <th>Wei</th>\n",
       "    </tr>\n",
       "    <tr>\n",
       "      <th>JID</th>\n",
       "      <th></th>\n",
       "      <th></th>\n",
       "      <th></th>\n",
       "      <th></th>\n",
       "    </tr>\n",
       "  </thead>\n",
       "  <tbody>\n",
       "    <tr>\n",
       "      <th>12</th>\n",
       "      <td>164</td>\n",
       "      <td>45</td>\n",
       "      <td>of 20   A guy stood over his tee shot for what...</td>\n",
       "      <td>7.805265</td>\n",
       "    </tr>\n",
       "    <tr>\n",
       "      <th>26</th>\n",
       "      <td>13</td>\n",
       "      <td>45</td>\n",
       "      <td>A guy walks into a bar and sits down next to a...</td>\n",
       "      <td>7.805265</td>\n",
       "    </tr>\n",
       "    <tr>\n",
       "      <th>1</th>\n",
       "      <td>125</td>\n",
       "      <td>45</td>\n",
       "      <td>of 25  A man visits the doctor. The doctor say...</td>\n",
       "      <td>7.796804</td>\n",
       "    </tr>\n",
       "    <tr>\n",
       "      <th>65</th>\n",
       "      <td>117</td>\n",
       "      <td>45</td>\n",
       "      <td>Two Rednecks were seated at the end of a bar w...</td>\n",
       "      <td>7.796804</td>\n",
       "    </tr>\n",
       "    <tr>\n",
       "      <th>75</th>\n",
       "      <td>66</td>\n",
       "      <td>45</td>\n",
       "      <td>Q: Do you know the difference between an intel...</td>\n",
       "      <td>7.796804</td>\n",
       "    </tr>\n",
       "    <tr>\n",
       "      <th>...</th>\n",
       "      <td>...</td>\n",
       "      <td>...</td>\n",
       "      <td>...</td>\n",
       "      <td>...</td>\n",
       "    </tr>\n",
       "    <tr>\n",
       "      <th>69</th>\n",
       "      <td>308</td>\n",
       "      <td>45</td>\n",
       "      <td>This guys wife asks, \"Honey if I died would yo...</td>\n",
       "      <td>7.779130</td>\n",
       "    </tr>\n",
       "    <tr>\n",
       "      <th>53</th>\n",
       "      <td>62</td>\n",
       "      <td>45</td>\n",
       "      <td>One Sunday morning William burst into the livi...</td>\n",
       "      <td>7.779130</td>\n",
       "    </tr>\n",
       "    <tr>\n",
       "      <th>50</th>\n",
       "      <td>41</td>\n",
       "      <td>45</td>\n",
       "      <td>A guy goes into confession and says to the pri...</td>\n",
       "      <td>7.762425</td>\n",
       "    </tr>\n",
       "    <tr>\n",
       "      <th>36</th>\n",
       "      <td>94</td>\n",
       "      <td>45</td>\n",
       "      <td>A guy walks into a bar, orders a beer and says...</td>\n",
       "      <td>7.762425</td>\n",
       "    </tr>\n",
       "    <tr>\n",
       "      <th>15</th>\n",
       "      <td>9</td>\n",
       "      <td>45</td>\n",
       "      <td>of 20   Q:  What did the blind person say when...</td>\n",
       "      <td>7.729255</td>\n",
       "    </tr>\n",
       "  </tbody>\n",
       "</table>\n",
       "<p>99 rows × 4 columns</p>\n",
       "</div>"
      ],
      "text/plain": [
       "     InteractionID  UID                                          joke_text   \n",
       "JID                                                                          \n",
       "12             164   45  of 20   A guy stood over his tee shot for what...  \\\n",
       "26              13   45  A guy walks into a bar and sits down next to a...   \n",
       "1              125   45  of 25  A man visits the doctor. The doctor say...   \n",
       "65             117   45  Two Rednecks were seated at the end of a bar w...   \n",
       "75              66   45  Q: Do you know the difference between an intel...   \n",
       "..             ...  ...                                                ...   \n",
       "69             308   45  This guys wife asks, \"Honey if I died would yo...   \n",
       "53              62   45  One Sunday morning William burst into the livi...   \n",
       "50              41   45  A guy goes into confession and says to the pri...   \n",
       "36              94   45  A guy walks into a bar, orders a beer and says...   \n",
       "15               9   45  of 20   Q:  What did the blind person say when...   \n",
       "\n",
       "          Wei  \n",
       "JID            \n",
       "12   7.805265  \n",
       "26   7.805265  \n",
       "1    7.796804  \n",
       "65   7.796804  \n",
       "75   7.796804  \n",
       "..        ...  \n",
       "69   7.779130  \n",
       "53   7.779130  \n",
       "50   7.762425  \n",
       "36   7.762425  \n",
       "15   7.729255  \n",
       "\n",
       "[99 rows x 4 columns]"
      ]
     },
     "execution_count": 51,
     "metadata": {},
     "output_type": "execute_result"
    }
   ],
   "source": [
    "recommend_items_for_user_i(45)"
   ]
  },
  {
   "cell_type": "code",
   "execution_count": 52,
   "metadata": {},
   "outputs": [
    {
     "name": "stdout",
     "output_type": "stream",
     "text": [
      "RMSE: 4.969377605946551\n"
     ]
    }
   ],
   "source": [
    "from sklearn.metrics import mean_squared_error\n",
    "\n",
    "# Получение предсказаний модели для валидационной выборки\n",
    "predictions = model.predict(val[X_col])\n",
    "\n",
    "# Вычисление RMSE\n",
    "rmse = mean_squared_error(val[y_col], predictions, squared=False)\n",
    "\n",
    "print(\"RMSE:\", rmse)"
   ]
  },
  {
   "cell_type": "code",
   "execution_count": 53,
   "metadata": {},
   "outputs": [
    {
     "data": {
      "text/html": [
       "<div>\n",
       "<style scoped>\n",
       "    .dataframe tbody tr th:only-of-type {\n",
       "        vertical-align: middle;\n",
       "    }\n",
       "\n",
       "    .dataframe tbody tr th {\n",
       "        vertical-align: top;\n",
       "    }\n",
       "\n",
       "    .dataframe thead th {\n",
       "        text-align: right;\n",
       "    }\n",
       "</style>\n",
       "<table border=\"1\" class=\"dataframe\">\n",
       "  <thead>\n",
       "    <tr style=\"text-align: right;\">\n",
       "      <th></th>\n",
       "      <th>InteractionID</th>\n",
       "      <th>UID</th>\n",
       "      <th>JID</th>\n",
       "      <th>joke_text</th>\n",
       "    </tr>\n",
       "  </thead>\n",
       "  <tbody>\n",
       "    <tr>\n",
       "      <th>0</th>\n",
       "      <td>0</td>\n",
       "      <td>11228</td>\n",
       "      <td>39</td>\n",
       "      <td>What is the difference between men and women:A...</td>\n",
       "    </tr>\n",
       "    <tr>\n",
       "      <th>1</th>\n",
       "      <td>1</td>\n",
       "      <td>21724</td>\n",
       "      <td>85</td>\n",
       "      <td>Q: How many Presidents does it take to screw i...</td>\n",
       "    </tr>\n",
       "    <tr>\n",
       "      <th>2</th>\n",
       "      <td>2</td>\n",
       "      <td>16782</td>\n",
       "      <td>56</td>\n",
       "      <td>A man and Cindy Crawford get stranded on a des...</td>\n",
       "    </tr>\n",
       "    <tr>\n",
       "      <th>3</th>\n",
       "      <td>3</td>\n",
       "      <td>12105</td>\n",
       "      <td>42</td>\n",
       "      <td>Two men are discussing the age old question: w...</td>\n",
       "    </tr>\n",
       "    <tr>\n",
       "      <th>4</th>\n",
       "      <td>4</td>\n",
       "      <td>14427</td>\n",
       "      <td>2</td>\n",
       "      <td>of 25   This couple had an excellent relations...</td>\n",
       "    </tr>\n",
       "    <tr>\n",
       "      <th>...</th>\n",
       "      <td>...</td>\n",
       "      <td>...</td>\n",
       "      <td>...</td>\n",
       "      <td>...</td>\n",
       "    </tr>\n",
       "    <tr>\n",
       "      <th>362086</th>\n",
       "      <td>362086</td>\n",
       "      <td>3085</td>\n",
       "      <td>66</td>\n",
       "      <td>A lawyer opened the door of his BMW, when sudd...</td>\n",
       "    </tr>\n",
       "    <tr>\n",
       "      <th>362087</th>\n",
       "      <td>362087</td>\n",
       "      <td>13765</td>\n",
       "      <td>31</td>\n",
       "      <td>President Clinton looks up from his desk in th...</td>\n",
       "    </tr>\n",
       "    <tr>\n",
       "      <th>362088</th>\n",
       "      <td>362088</td>\n",
       "      <td>10341</td>\n",
       "      <td>29</td>\n",
       "      <td>An old Scotsmen is sitting with a younger Scot...</td>\n",
       "    </tr>\n",
       "    <tr>\n",
       "      <th>362089</th>\n",
       "      <td>362089</td>\n",
       "      <td>3553</td>\n",
       "      <td>8</td>\n",
       "      <td>Q. Did you hear about the dyslexic devil worsh...</td>\n",
       "    </tr>\n",
       "    <tr>\n",
       "      <th>362090</th>\n",
       "      <td>362090</td>\n",
       "      <td>1199</td>\n",
       "      <td>67</td>\n",
       "      <td>Once upon a time, two brooms fell in love and ...</td>\n",
       "    </tr>\n",
       "  </tbody>\n",
       "</table>\n",
       "<p>362091 rows × 4 columns</p>\n",
       "</div>"
      ],
      "text/plain": [
       "        InteractionID    UID  JID   \n",
       "0                   0  11228   39  \\\n",
       "1                   1  21724   85   \n",
       "2                   2  16782   56   \n",
       "3                   3  12105   42   \n",
       "4                   4  14427    2   \n",
       "...               ...    ...  ...   \n",
       "362086         362086   3085   66   \n",
       "362087         362087  13765   31   \n",
       "362088         362088  10341   29   \n",
       "362089         362089   3553    8   \n",
       "362090         362090   1199   67   \n",
       "\n",
       "                                                joke_text  \n",
       "0       What is the difference between men and women:A...  \n",
       "1       Q: How many Presidents does it take to screw i...  \n",
       "2       A man and Cindy Crawford get stranded on a des...  \n",
       "3       Two men are discussing the age old question: w...  \n",
       "4       of 25   This couple had an excellent relations...  \n",
       "...                                                   ...  \n",
       "362086  A lawyer opened the door of his BMW, when sudd...  \n",
       "362087  President Clinton looks up from his desk in th...  \n",
       "362088  An old Scotsmen is sitting with a younger Scot...  \n",
       "362089  Q. Did you hear about the dyslexic devil worsh...  \n",
       "362090  Once upon a time, two brooms fell in love and ...  \n",
       "\n",
       "[362091 rows x 4 columns]"
      ]
     },
     "execution_count": 53,
     "metadata": {},
     "output_type": "execute_result"
    }
   ],
   "source": [
    "data_test"
   ]
  },
  {
   "attachments": {},
   "cell_type": "markdown",
   "metadata": {},
   "source": [
    "тестируем"
   ]
  },
  {
   "cell_type": "code",
   "execution_count": 54,
   "metadata": {},
   "outputs": [],
   "source": [
    "def recommend_items_for_user(UID):\n",
    "    # Нахождение элементов, которые пользователь оценил в обучающем наборе данных\n",
    "    user_rated_jokes = train[train['UID'] == UID]['JID'].unique()\n",
    "\n",
    "    # Нахождение элементов, которые пользователь не оценил в обучающем наборе данных, но присутствуют в тестовом наборе данных\n",
    "    items_to_recommend = np.setdiff1d(\n",
    "        data_test['JID'].unique(), user_rated_jokes)\n",
    "\n",
    "    # Создание DataFrame с элементами, которые пользователь не оценивал\n",
    "    user_items = data_test[data_test['JID'].isin(\n",
    "        items_to_recommend)].drop_duplicates(subset='JID').copy()\n",
    "    user_items['UID'] = UID\n",
    "\n",
    "    # # Получение предсказаний для элементов, которые пользователь еще не оценил\n",
    "    predictions = model.predict(user_items[X_col])\n",
    "\n",
    "    # # Создание DataFrame с предсказанными оценками\n",
    "    user_items['Rating'] = predictions\n",
    "\n",
    "    # # Сортировка элементов по предсказанной оценке\n",
    "    recommended_items = user_items.groupby(\n",
    "         'JID').max().sort_values(by='Rating', ascending=False)\n",
    "\n",
    "    # # Получение топ-N рекомендаций для пользователя\n",
    "    top_n_recommendations = recommended_items.head(10).index.tolist()\n",
    "\n",
    "    return top_n_recommendations"
   ]
  },
  {
   "cell_type": "code",
   "execution_count": 55,
   "metadata": {},
   "outputs": [
    {
     "data": {
      "text/plain": [
       "10"
      ]
     },
     "execution_count": 55,
     "metadata": {},
     "output_type": "execute_result"
    }
   ],
   "source": [
    "len(recommend_items_for_user(45))"
   ]
  },
  {
   "cell_type": "code",
   "execution_count": 56,
   "metadata": {},
   "outputs": [
    {
     "data": {
      "text/plain": [
       "[89, 36, 49, 66, 76, 21, 68, 54, 91, 6]"
      ]
     },
     "execution_count": 56,
     "metadata": {},
     "output_type": "execute_result"
    }
   ],
   "source": [
    "recommend_items_for_user(45)"
   ]
  },
  {
   "cell_type": "code",
   "execution_count": 57,
   "metadata": {},
   "outputs": [
    {
     "data": {
      "text/plain": [
       "[89, 36, 49, 66, 76, 21, 68, 54, 91, 6]"
      ]
     },
     "execution_count": 57,
     "metadata": {},
     "output_type": "execute_result"
    }
   ],
   "source": [
    "recommend_items_for_user(45)"
   ]
  },
  {
   "attachments": {},
   "cell_type": "markdown",
   "metadata": {},
   "source": [
    "### SURPRISE"
   ]
  },
  {
   "attachments": {},
   "cell_type": "markdown",
   "metadata": {},
   "source": [
    "Эта модель будет обучаться только на JID, UID, Rating в отличии от Cat Boost который обучался на тексте"
   ]
  },
  {
   "cell_type": "code",
   "execution_count": 58,
   "metadata": {},
   "outputs": [],
   "source": [
    "# считываем данные из датасета\n",
    "reader = Reader(rating_scale=(-10, 10))\n",
    "data_s = Dataset.load_from_df(df_train[['UID', 'JID', 'Rating']], reader)"
   ]
  },
  {
   "cell_type": "code",
   "execution_count": 59,
   "metadata": {},
   "outputs": [],
   "source": [
    "trainingSet = data_s.build_full_trainset()"
   ]
  },
  {
   "cell_type": "code",
   "execution_count": 60,
   "metadata": {},
   "outputs": [
    {
     "name": "stdout",
     "output_type": "stream",
     "text": [
      "RMSE: 0.5570\n",
      "RMSE: 0.5628\n",
      "RMSE: 0.5644\n",
      "RMSE: 0.5601\n"
     ]
    }
   ],
   "source": [
    "algo = SVD(n_epochs=100, lr_all=0.01, reg_all=0.02, n_factors=300)\n",
    "\n",
    "kf = KFold(n_splits=5)\n",
    "\n",
    "for trainset, testset in kf.split(data_s):\n",
    "\n",
    "    algo.fit(trainingSet)\n",
    "    predictions = algo.test(testset)\n",
    "    accuracy.rmse(predictions, verbose=True)"
   ]
  },
  {
   "attachments": {},
   "cell_type": "markdown",
   "metadata": {},
   "source": [
    "Напишем функцию, для применения модели на разных UID"
   ]
  },
  {
   "cell_type": "code",
   "execution_count": null,
   "metadata": {},
   "outputs": [],
   "source": [
    "def recommend_items_for_user_s(UID):\n",
    "    # Нахождение элементов, которые пользователь оценил в обучающем наборе данных\n",
    "    user_rated_jokes = train[train['UID'] == UID]['JID'].unique()\n",
    "\n",
    "    # Нахождение элементов, которые пользователь не оценил в обучающем наборе данных, но присутствуют в тестовом наборе данных\n",
    "    items_to_recommend = np.setdiff1d(\n",
    "        df_test['JID'].unique(), user_rated_jokes)\n",
    "\n",
    "    user_items = df_test[df_test['JID'].isin(\n",
    "        items_to_recommend)].drop_duplicates(subset='JID').copy()\n",
    "    user_items['UID'] = UID\n",
    "\n",
    "    # Добавление столбца \"Rating\" в user_items со значениями заглушками\n",
    "    user_items['Rating'] = 0\n",
    "\n",
    "    # Создание Dataset объекта из данных user_items\n",
    "    dataset = Dataset.load_from_df(\n",
    "        user_items[['UID', 'JID', 'Rating']], Reader())\n",
    "\n",
    "    # Получение предсказаний для элементов, которые пользователь еще не оценил\n",
    "    predictions = algo.test(dataset.build_full_trainset().build_testset())\n",
    "\n",
    "    # Создание DataFrame с предсказанными оценками\n",
    "    user_items['Rating'] = [pred.est for pred in predictions]\n",
    "\n",
    "    # Сортировка элементов по предсказанной оценке\n",
    "    recommended_items = user_items.groupby(\n",
    "        'JID').max().sort_values(by='Rating', ascending=False)\n",
    "\n",
    "    # Получение топ-N рекомендаций для пользователя\n",
    "    top_n_recommendations = recommended_items.head(10).index.tolist()\n",
    "\n",
    "    return top_n_recommendations"
   ]
  },
  {
   "cell_type": "code",
   "execution_count": null,
   "metadata": {},
   "outputs": [],
   "source": [
    "# def recommend_items_for_user_s(UID):\n",
    "#     # Нахождение элементов, которые пользователь оценил в обучающем наборе данных\n",
    "#     user_rated_jokes = train[train['UID'] == UID]['JID'].unique()\n",
    "\n",
    "#     # Нахождение элементов, которые пользователь не оценил в обучающем наборе данных, но присутствуют в тестовом наборе данных\n",
    "#     items_to_recommend = np.setdiff1d(df_test['JID'].unique(), user_rated_jokes)\n",
    "\n",
    "#     user_items = df_test[df_test['JID'].isin(items_to_recommend)].drop_duplicates(subset='JID').copy()\n",
    "#     user_items['UID'] = UID\n",
    "\n",
    "\n",
    "#     # Получение предсказаний для элементов, которые пользователь еще не оценил\n",
    "#     predictions = data_test[['UID', 'JID']].apply(lambda x: algo.predict(x[0], x[1], verbose=False).est,\n",
    "#                                                       axis = 1)\n",
    "\n",
    "#     # Создание DataFrame с предсказанными оценками\n",
    "#     user_items['Rating'] = predictions\n",
    "\n",
    "#     # Сортировка элементов по предсказанной оценке\n",
    "#     recommended_items = user_items.groupby('JID').max().sort_values(by='Rating', ascending=False)\n",
    "\n",
    "#     # Получение топ-N рекомендаций для пользователя\n",
    "#     top_n_recommendations = recommended_items.head(10).index.tolist()\n",
    "\n",
    "#     return top_n_recommendations"
   ]
  },
  {
   "attachments": {},
   "cell_type": "markdown",
   "metadata": {},
   "source": [
    "Проверяем работы функций на разных UID"
   ]
  },
  {
   "cell_type": "code",
   "execution_count": null,
   "metadata": {},
   "outputs": [
    {
     "data": {
      "text/plain": [
       "[30, 27, 56, 47, 34, 25, 54, 6, 66, 11]"
      ]
     },
     "execution_count": 42,
     "metadata": {},
     "output_type": "execute_result"
    }
   ],
   "source": [
    "recommend_items_for_user_s(45)"
   ]
  },
  {
   "cell_type": "code",
   "execution_count": null,
   "metadata": {},
   "outputs": [
    {
     "data": {
      "text/plain": [
       "[29, 27, 66, 76, 93, 54, 88, 56, 91, 6]"
      ]
     },
     "execution_count": 43,
     "metadata": {},
     "output_type": "execute_result"
    }
   ],
   "source": [
    "recommend_items_for_user(45)"
   ]
  },
  {
   "cell_type": "code",
   "execution_count": null,
   "metadata": {},
   "outputs": [
    {
     "name": "stdout",
     "output_type": "stream",
     "text": [
      "[29, 27, 65, 89, 49, 31, 46, 93, 72, 91]\n"
     ]
    },
    {
     "data": {
      "text/plain": [
       "[89, 29, 27, 32, 49, 72, 65, 76, 93, 31]"
      ]
     },
     "execution_count": 44,
     "metadata": {},
     "output_type": "execute_result"
    }
   ],
   "source": [
    "print(recommend_items_for_user_s(1))\n",
    "recommend_items_for_user(1)"
   ]
  },
  {
   "cell_type": "code",
   "execution_count": null,
   "metadata": {},
   "outputs": [
    {
     "name": "stdout",
     "output_type": "stream",
     "text": [
      "[50, 89, 27, 36, 62, 29, 35, 32, 53, 72]\n"
     ]
    },
    {
     "data": {
      "text/plain": [
       "[50, 89, 29, 72, 36, 32, 35, 27, 53, 93]"
      ]
     },
     "execution_count": 45,
     "metadata": {},
     "output_type": "execute_result"
    }
   ],
   "source": [
    "print(recommend_items_for_user_s(987654321))\n",
    "recommend_items_for_user(987654321)"
   ]
  },
  {
   "attachments": {},
   "cell_type": "markdown",
   "metadata": {},
   "source": [
    "### Балансируем резульаты моделей"
   ]
  },
  {
   "cell_type": "code",
   "execution_count": null,
   "metadata": {},
   "outputs": [],
   "source": [
    "def ensemble_recommendations(UID):\n",
    "    # Получение рекомендаций от первой модели\n",
    "    recommendations1 = recommend_items_for_user_s(UID)\n",
    "\n",
    "    # Получение рекомендаций от второй модели\n",
    "    recommendations2 = recommend_items_for_user(UID)\n",
    "\n",
    "    # Получение шуток, которые рекомендуют обе модели\n",
    "    # common_recommendations = set(recommendations1).intersection(recommendations2)\n",
    "    common_recommendations = []\n",
    "    [common_recommendations.append(\n",
    "        x) for x in recommendations1 if x in recommendations2]\n",
    "\n",
    "    return list(common_recommendations)"
   ]
  },
  {
   "cell_type": "code",
   "execution_count": null,
   "metadata": {},
   "outputs": [
    {
     "name": "stdout",
     "output_type": "stream",
     "text": [
      "[41, 61, 54, 53, 72, 76, 68, 63, 35, 89]\n"
     ]
    },
    {
     "data": {
      "text/plain": [
       "[89, 29, 35, 53, 54, 68, 72, 61, 76, 88]"
      ]
     },
     "execution_count": 47,
     "metadata": {},
     "output_type": "execute_result"
    }
   ],
   "source": [
    "print(recommend_items_for_user_s(1680))\n",
    "recommend_items_for_user(1680)"
   ]
  },
  {
   "attachments": {},
   "cell_type": "markdown",
   "metadata": {},
   "source": [
    "если списко 10 шуток не полный, думаю заполнять его самыми популярными шутками - так как большинство пользователей все же имеют достаточно много рекомендованных шуток"
   ]
  },
  {
   "cell_type": "code",
   "execution_count": null,
   "metadata": {},
   "outputs": [
    {
     "data": {
      "text/plain": [
       "[27, 21, 35, 29, 56]"
      ]
     },
     "execution_count": 48,
     "metadata": {},
     "output_type": "execute_result"
    }
   ],
   "source": [
    "ensemble_recommendations(16)"
   ]
  },
  {
   "cell_type": "code",
   "execution_count": null,
   "metadata": {},
   "outputs": [
    {
     "data": {
      "text/plain": [
       "[50, 89, 36, 27, 32, 62, 35, 29, 53, 72]"
      ]
     },
     "execution_count": 49,
     "metadata": {},
     "output_type": "execute_result"
    }
   ],
   "source": [
    "top_jokes = df_train.groupby(\n",
    "    'JID')['Rating'].mean().sort_values(ascending=False)\n",
    "top_jokes_list = top_jokes.head(10).index.tolist()\n",
    "top_jokes_list"
   ]
  },
  {
   "cell_type": "code",
   "execution_count": null,
   "metadata": {},
   "outputs": [],
   "source": [
    "def ensemble_recommendations_f(UID):\n",
    "    recommendations1 = recommend_items_for_user_s(UID)\n",
    "    recommendations2 = recommend_items_for_user(UID)\n",
    "\n",
    "    # Получение шуток, которые рекомендуют обе модели\n",
    "    common_recommendations = []\n",
    "    [common_recommendations.append(\n",
    "        x) for x in recommendations1 if x in recommendations2]\n",
    "\n",
    "    if len(common_recommendations) < 10:\n",
    "        # Дополнение списка до 10 элементов\n",
    "        additional_recommendations = top_jokes_list[:10]\n",
    "        while len(common_recommendations) < 10:\n",
    "            common_recommendations.append(additional_recommendations.pop(0))\n",
    "\n",
    "    return common_recommendations"
   ]
  },
  {
   "cell_type": "code",
   "execution_count": null,
   "metadata": {},
   "outputs": [
    {
     "data": {
      "text/plain": [
       "[61, 54, 53, 72, 76, 68, 35, 89, 50, 89]"
      ]
     },
     "execution_count": 51,
     "metadata": {},
     "output_type": "execute_result"
    }
   ],
   "source": [
    "ensemble_recommendations_f(1680)"
   ]
  },
  {
   "attachments": {},
   "cell_type": "markdown",
   "metadata": {},
   "source": [
    "## ВЫВОД РЕЗУЛЬТАТА - наиболее рекомендованная шутка и топ 10 шуток"
   ]
  },
  {
   "cell_type": "code",
   "execution_count": null,
   "metadata": {},
   "outputs": [],
   "source": [
    "def final_func (UID):\n",
    "    for x in ensemble_recommendations_f(UID):\n",
    "        return f'ИД пользователя {UID} - рекомендованная шутка {x}', f'топ 10 шуток - {ensemble_recommendations_f(UID)}'\n",
    "               "
   ]
  },
  {
   "cell_type": "code",
   "execution_count": null,
   "metadata": {},
   "outputs": [
    {
     "data": {
      "text/plain": [
       "('ИД пользователя 1680 - рекомендованная шутка 61',\n",
       " 'топ 10 шуток - [61, 54, 53, 72, 76, 68, 35, 89, 50, 89]')"
      ]
     },
     "execution_count": 70,
     "metadata": {},
     "output_type": "execute_result"
    }
   ],
   "source": [
    "final_func(1680)"
   ]
  }
 ],
 "metadata": {
  "kernelspec": {
   "display_name": "Python 3",
   "language": "python",
   "name": "python3"
  },
  "language_info": {
   "codemirror_mode": {
    "name": "ipython",
    "version": 3
   },
   "file_extension": ".py",
   "mimetype": "text/x-python",
   "name": "python",
   "nbconvert_exporter": "python",
   "pygments_lexer": "ipython3",
   "version": "3.9.6"
  },
  "orig_nbformat": 4
 },
 "nbformat": 4,
 "nbformat_minor": 2
}
